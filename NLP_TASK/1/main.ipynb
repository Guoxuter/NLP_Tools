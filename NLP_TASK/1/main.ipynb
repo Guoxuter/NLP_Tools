{
 "cells": [
  {
   "cell_type": "code",
   "execution_count": 1,
   "metadata": {},
   "outputs": [
    {
     "name": "stderr",
     "output_type": "stream",
     "text": [
      "d:\\Tools\\anaconda3\\envs\\pytorch-py38\\lib\\site-packages\\scipy\\__init__.py:146: UserWarning: A NumPy version >=1.16.5 and <1.23.0 is required for this version of SciPy (detected version 1.23.1\n",
      "  warnings.warn(f\"A NumPy version >={np_minversion} and <{np_maxversion}\"\n"
     ]
    }
   ],
   "source": [
    "import numpy as np\n",
    "import pandas as pd\n",
    "import os\n"
   ]
  },
  {
   "cell_type": "markdown",
   "metadata": {},
   "source": [
    "### 1、读取数据\n",
    "读取训练数据，测试数据以及停用词"
   ]
  },
  {
   "cell_type": "code",
   "execution_count": 2,
   "metadata": {},
   "outputs": [
    {
     "data": {
      "text/html": [
       "<div>\n",
       "<style scoped>\n",
       "    .dataframe tbody tr th:only-of-type {\n",
       "        vertical-align: middle;\n",
       "    }\n",
       "\n",
       "    .dataframe tbody tr th {\n",
       "        vertical-align: top;\n",
       "    }\n",
       "\n",
       "    .dataframe thead th {\n",
       "        text-align: right;\n",
       "    }\n",
       "</style>\n",
       "<table border=\"1\" class=\"dataframe\">\n",
       "  <thead>\n",
       "    <tr style=\"text-align: right;\">\n",
       "      <th></th>\n",
       "      <th>PhraseId</th>\n",
       "      <th>SentenceId</th>\n",
       "      <th>Phrase</th>\n",
       "      <th>Sentiment</th>\n",
       "    </tr>\n",
       "  </thead>\n",
       "  <tbody>\n",
       "    <tr>\n",
       "      <th>0</th>\n",
       "      <td>1</td>\n",
       "      <td>1</td>\n",
       "      <td>A series of escapades demonstrating the adage ...</td>\n",
       "      <td>1</td>\n",
       "    </tr>\n",
       "    <tr>\n",
       "      <th>1</th>\n",
       "      <td>2</td>\n",
       "      <td>1</td>\n",
       "      <td>A series of escapades demonstrating the adage ...</td>\n",
       "      <td>2</td>\n",
       "    </tr>\n",
       "  </tbody>\n",
       "</table>\n",
       "</div>"
      ],
      "text/plain": [
       "   PhraseId  SentenceId                                             Phrase  \\\n",
       "0         1           1  A series of escapades demonstrating the adage ...   \n",
       "1         2           1  A series of escapades demonstrating the adage ...   \n",
       "\n",
       "   Sentiment  \n",
       "0          1  \n",
       "1          2  "
      ]
     },
     "execution_count": 2,
     "metadata": {},
     "output_type": "execute_result"
    }
   ],
   "source": [
    "train=pd.read_csv(r'./data/train.tsv.zip',sep='\\t')\n",
    "test=pd.read_csv(r'./data/test.tsv.zip',sep='\\t')\n",
    "with open(r'./data/stopwords.txt',encoding='utf8')as f:\n",
    "    stopwords=f.read().split('\\n')\n",
    "train.head(2)"
   ]
  },
  {
   "cell_type": "code",
   "execution_count": 62,
   "metadata": {},
   "outputs": [],
   "source": [
    "phrase_list=train.Phrase.to_list()\n",
    "sentiment_list=train.Sentiment.to_list()\n",
    "phrase_list=[phrase_list[i].lower().split() for i in range(len(phrase_list))]\n",
    "phrase_list2=test.Phrase.to_list()\n",
    "phrase_list2=[phrase_list2[i].lower().split() for i in range(len(phrase_list2))]\n"
   ]
  },
  {
   "cell_type": "markdown",
   "metadata": {},
   "source": [
    "### 2、处理数据\n",
    "去除停用词\n",
    "记录词频，将字符转为向量"
   ]
  },
  {
   "cell_type": "code",
   "execution_count": 63,
   "metadata": {},
   "outputs": [],
   "source": [
    "for p in range(len(phrase_list)):\n",
    "    new_list=[]\n",
    "    for w in phrase_list[p]:\n",
    "        word=w.strip(\"',?.!^%￥#@~·&*（）(`)_-+=:;\\|\")\n",
    "        if word not in stopwords:\n",
    "            if len(word)>1:\n",
    "                new_list.append(word)\n",
    "    phrase_list[p]=new_list\n"
   ]
  },
  {
   "cell_type": "code",
   "execution_count": 64,
   "metadata": {},
   "outputs": [],
   "source": [
    "for p in range(len(phrase_list2)):\n",
    "    new_list=[]\n",
    "    for w in phrase_list2[p]:\n",
    "        word=w.strip(\"',?.!^%￥#@~·&*（）(`)_-+=:;\\|\")\n",
    "        if word not in stopwords:\n",
    "            if len(word)>1:\n",
    "                new_list.append(word)\n",
    "    phrase_list2[p]=new_list"
   ]
  },
  {
   "cell_type": "code",
   "execution_count": 65,
   "metadata": {},
   "outputs": [],
   "source": [
    "from collections import defaultdict\n",
    "word_dict=defaultdict(int)\n",
    "for i in phrase_list:\n",
    "    for j in i:\n",
    "        word_dict[j]+=1\n",
    "sorted_word_dict = sorted(word_dict.items(), key = lambda kv:(kv[1], kv[0]),reverse=True)"
   ]
  },
  {
   "cell_type": "code",
   "execution_count": 66,
   "metadata": {},
   "outputs": [],
   "source": [
    "freq=[]\n",
    "n=300\n",
    "for i in range(n):\n",
    "    freq.append(sorted_word_dict[i][0])"
   ]
  },
  {
   "cell_type": "code",
   "execution_count": 67,
   "metadata": {},
   "outputs": [],
   "source": [
    "X=[]\n",
    "for i in phrase_list:\n",
    "    x=[0]*n\n",
    "    for j in i:\n",
    "        if j in freq:\n",
    "            x[freq.index(j)]+=1\n",
    "    X.append(x)\n",
    "X=np.array(X)"
   ]
  },
  {
   "cell_type": "code",
   "execution_count": 82,
   "metadata": {},
   "outputs": [],
   "source": [
    "X_test=[]\n",
    "for i in phrase_list2:\n",
    "    xt=[0]*n\n",
    "    for j in i:\n",
    "        if j in freq:\n",
    "            xt[freq.index(j)]+=1\n",
    "    X_test.append(xt)\n",
    "X_test=np.array(X_test)"
   ]
  },
  {
   "cell_type": "code",
   "execution_count": 85,
   "metadata": {},
   "outputs": [],
   "source": [
    "y=np.array(sentiment_list)"
   ]
  },
  {
   "cell_type": "markdown",
   "metadata": {},
   "source": [
    "### 3、模型训练\n",
    "将数据输入模型进行训练"
   ]
  },
  {
   "cell_type": "code",
   "execution_count": 91,
   "metadata": {},
   "outputs": [
    {
     "name": "stderr",
     "output_type": "stream",
     "text": [
      "d:\\Tools\\anaconda3\\envs\\pytorch-py38\\lib\\site-packages\\sklearn\\neural_network\\_multilayer_perceptron.py:582: ConvergenceWarning: Stochastic Optimizer: Maximum iterations (200) reached and the optimization hasn't converged yet.\n",
      "  warnings.warn(\n"
     ]
    },
    {
     "data": {
      "text/plain": [
       "0.614962194027938"
      ]
     },
     "execution_count": 91,
     "metadata": {},
     "output_type": "execute_result"
    }
   ],
   "source": [
    "from sklearn.neural_network import MLPClassifier\n",
    "rs=42\n",
    "clf=MLPClassifier().fit(X,y)\n",
    "clf.score(X, y)"
   ]
  },
  {
   "cell_type": "code",
   "execution_count": 92,
   "metadata": {},
   "outputs": [],
   "source": [
    "# 预测\n",
    "predict=clf.predict(X_test)"
   ]
  },
  {
   "cell_type": "code",
   "execution_count": 95,
   "metadata": {},
   "outputs": [],
   "source": [
    "# 保存模型\n",
    "import pickle\n",
    "with open(r'./model/MLPClf.pkl','wb')as f:\n",
    "    pickle.dump(clf,f)\n",
    "with open(r'./model/MLPClf.pkl','rb')as f:\n",
    "    clf=pickle.load(f)"
   ]
  },
  {
   "cell_type": "code",
   "execution_count": 96,
   "metadata": {},
   "outputs": [
    {
     "data": {
      "text/plain": [
       "0.614962194027938"
      ]
     },
     "execution_count": 96,
     "metadata": {},
     "output_type": "execute_result"
    }
   ],
   "source": [
    "clf.score(X, y)"
   ]
  }
 ],
 "metadata": {
  "kernelspec": {
   "display_name": "Python 3.8.12 ('pytorch-py38')",
   "language": "python",
   "name": "python3"
  },
  "language_info": {
   "codemirror_mode": {
    "name": "ipython",
    "version": 3
   },
   "file_extension": ".py",
   "mimetype": "text/x-python",
   "name": "python",
   "nbconvert_exporter": "python",
   "pygments_lexer": "ipython3",
   "version": "3.8.12"
  },
  "orig_nbformat": 4,
  "vscode": {
   "interpreter": {
    "hash": "ddffb1544c9fa9d387a7aa176a137b6582276ec371fa59073f13a38708bafc17"
   }
  }
 },
 "nbformat": 4,
 "nbformat_minor": 2
}
